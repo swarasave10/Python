{
  "nbformat": 4,
  "nbformat_minor": 0,
  "metadata": {
    "colab": {
      "provenance": []
    },
    "kernelspec": {
      "name": "python3",
      "display_name": "Python 3"
    },
    "language_info": {
      "name": "python"
    }
  },
  "cells": [
    {
      "cell_type": "markdown",
      "source": [
        "### SWARA SAMEER SAVE\n",
        "ROLL NO-51"
      ],
      "metadata": {
        "id": "bvYWGRRASE0Y"
      }
    },
    {
      "cell_type": "code",
      "source": [
        "stack = list ()\n",
        "stack.append ('a')\n",
        "stack.append ('b')\n",
        "stack.append ('c')\n",
        "print ('Initial Stack')\n",
        "print (stack)"
      ],
      "metadata": {
        "colab": {
          "base_uri": "https://localhost:8080/"
        },
        "id": "U5Sf63V_SZBw",
        "outputId": "31b54a57-a063-4326-f527-461fc4729937"
      },
      "execution_count": 1,
      "outputs": [
        {
          "output_type": "stream",
          "name": "stdout",
          "text": [
            "Initial Stack\n",
            "['a', 'b', 'c']\n"
          ]
        }
      ]
    },
    {
      "cell_type": "code",
      "source": [
        "print (stack.pop ())\n",
        "print (stack.pop ())\n",
        "print (stack.pop ())\n",
        "print (stack)"
      ],
      "metadata": {
        "colab": {
          "base_uri": "https://localhost:8080/"
        },
        "id": "1P1iqbRzSgmp",
        "outputId": "f147572d-6c93-4dfb-c157-a16004503761"
      },
      "execution_count": 2,
      "outputs": [
        {
          "output_type": "stream",
          "name": "stdout",
          "text": [
            "c\n",
            "b\n",
            "a\n",
            "[]\n"
          ]
        }
      ]
    },
    {
      "cell_type": "code",
      "source": [
        "class StackDepth:\n",
        "    def maximumDepth(self, stringInput: str) -> int:\n",
        "        max_depth = 0\n",
        "        current_depth = 0\n",
        "\n",
        "        for char in stringInput:\n",
        "            if char == '(':\n",
        "                current_depth += 1\n",
        "                max_depth = max(max_depth, current_depth)\n",
        "            elif char == ')':\n",
        "                current_depth -= 1\n",
        "\n",
        "        return max_depth\n",
        "\n",
        "stringInput = input(\"Enter a valid parentheses string: \")\n",
        "stack_depth = StackDepth()\n",
        "print(\"Maximum Nesting Depth:\", stack_depth.maximumDepth(stringInput))\n"
      ],
      "metadata": {
        "colab": {
          "base_uri": "https://localhost:8080/"
        },
        "id": "PauSSuVhSlxQ",
        "outputId": "cd2e334d-29f0-4ef3-a947-e679b3edb45c"
      },
      "execution_count": 3,
      "outputs": [
        {
          "output_type": "stream",
          "name": "stdout",
          "text": [
            "Enter a valid parentheses string:  \"(1+(2*3)+((8)/4))+1\"\n",
            "Maximum Nesting Depth: 3\n"
          ]
        }
      ]
    },
    {
      "cell_type": "code",
      "source": [
        "class StackDepth:\n",
        "    def maximumDepth(self, stringInput: str) -> int:\n",
        "        max_depth = 0\n",
        "        current_depth = 0\n",
        "\n",
        "        for char in stringInput:\n",
        "            if char == '(':\n",
        "                current_depth += 1\n",
        "                max_depth = max(max_depth, current_depth)\n",
        "            elif char == ')':\n",
        "                current_depth -= 1\n",
        "\n",
        "        return max_depth\n",
        "\n",
        "stringInput = input(\"Enter a valid parentheses string: \")\n",
        "stack_depth = StackDepth()\n",
        "print(\"Maximum Nesting Depth:\", stack_depth.maximumDepth(stringInput))\n"
      ],
      "metadata": {
        "colab": {
          "base_uri": "https://localhost:8080/"
        },
        "id": "YneSmDseSu3Q",
        "outputId": "090cbada-9c34-4bed-a7c7-7876be4711f7"
      },
      "execution_count": 4,
      "outputs": [
        {
          "output_type": "stream",
          "name": "stdout",
          "text": [
            "Enter a valid parentheses string:  \"(1)+((2))+(((3)))\"\n",
            "Maximum Nesting Depth: 3\n"
          ]
        }
      ]
    },
    {
      "cell_type": "code",
      "source": [
        "class StackDepth:\n",
        "    def maximumDepth(self, stringInput: str) -> int:\n",
        "        max_depth = 0\n",
        "        current_depth = 0\n",
        "\n",
        "        for char in stringInput:\n",
        "            if char == '(':\n",
        "                current_depth += 1\n",
        "                max_depth = max(max_depth, current_depth)\n",
        "            elif char == ')':\n",
        "                current_depth -= 1\n",
        "\n",
        "        return max_depth\n",
        "\n",
        "stringInput = input(\"Enter a valid parentheses string: \")\n",
        "stack_depth = StackDepth()\n",
        "print(\"Maximum Nesting Depth:\", stack_depth.maximumDepth(stringInput))\n"
      ],
      "metadata": {
        "colab": {
          "base_uri": "https://localhost:8080/"
        },
        "id": "OPOGy57dS39w",
        "outputId": "efd8be18-9fc5-4434-866c-4e6aa5b54040"
      },
      "execution_count": 5,
      "outputs": [
        {
          "output_type": "stream",
          "name": "stdout",
          "text": [
            "Enter a valid parentheses string: \"()(())((()()))\"\n",
            "Maximum Nesting Depth: 3\n"
          ]
        }
      ]
    }
  ]
}