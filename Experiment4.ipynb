{
 "cells": [
  {
   "cell_type": "code",
   "execution_count": 2,
   "id": "2c859df0-bdef-4da4-ab24-37068605f045",
   "metadata": {},
   "outputs": [
    {
     "name": "stdout",
     "output_type": "stream",
     "text": [
      "Files in the current directory:\n",
      ".angular-config.json\n",
      ".bash_history\n",
      ".condarc\n",
      ".gitconfig\n",
      ".node_repl_history\n",
      "34.txt\n",
      "Assigment1.ipynb\n",
      "EXP3.py\n",
      "Experiment4.ipynb\n",
      "File.txt\n",
      "H34.txt\n",
      "NTUSER.DAT\n",
      "ntuser.dat.LOG1\n",
      "ntuser.dat.LOG2\n",
      "NTUSER.DAT{a2332f18-cdbf-11ec-8680-002248483d79}.TM.blf\n",
      "NTUSER.DAT{a2332f18-cdbf-11ec-8680-002248483d79}.TMContainer00000000000000000001.regtrans-ms\n",
      "NTUSER.DAT{a2332f18-cdbf-11ec-8680-002248483d79}.TMContainer00000000000000000002.regtrans-ms\n",
      "ntuser.ini\n",
      "package-lock.json\n",
      "sanika ds manual.pdf\n",
      "Untitled.ipynb\n",
      "untitled.py\n",
      "untitled.txt\n",
      "Untitled1.ipynb\n",
      "Untitled2.ipynb\n",
      "Untitled3.ipynb\n",
      "Untitled4.ipynb\n",
      "Untitled5.ipynb\n",
      "weka.log\n"
     ]
    }
   ],
   "source": [
    "import os\n",
    "\n",
    "files = [f for f in os.listdir('.') if os.path.isfile(f)]\n",
    "\n",
    "print(\"Files in the current directory:\")\n",
    "for file in files:\n",
    "    print(file)\n",
    "\n"
   ]
  },
  {
   "cell_type": "code",
   "execution_count": 1,
   "id": "cab336b1-a7bc-4865-b627-c56ed8700cc0",
   "metadata": {},
   "outputs": [
    {
     "name": "stdout",
     "output_type": "stream",
     "text": [
      "Files in the current directory:\n",
      ".angular-config.json\n",
      ".bash_history\n",
      ".condarc\n",
      ".gitconfig\n",
      ".node_repl_history\n",
      "34.txt\n",
      "Assigment1.ipynb\n",
      "EXP3.py\n",
      "Experiment4.ipynb\n",
      "File.txt\n",
      "H34.txt\n",
      "NTUSER.DAT\n",
      "ntuser.dat.LOG1\n",
      "ntuser.dat.LOG2\n",
      "NTUSER.DAT{a2332f18-cdbf-11ec-8680-002248483d79}.TM.blf\n",
      "NTUSER.DAT{a2332f18-cdbf-11ec-8680-002248483d79}.TMContainer00000000000000000001.regtrans-ms\n",
      "NTUSER.DAT{a2332f18-cdbf-11ec-8680-002248483d79}.TMContainer00000000000000000002.regtrans-ms\n",
      "ntuser.ini\n",
      "package-lock.json\n",
      "sanika ds manual.pdf\n",
      "Untitled.ipynb\n",
      "untitled.py\n",
      "untitled.txt\n",
      "Untitled1.ipynb\n",
      "Untitled2.ipynb\n",
      "Untitled3.ipynb\n",
      "Untitled4.ipynb\n",
      "Untitled5.ipynb\n",
      "weka.log\n"
     ]
    }
   ],
   "source": [
    "from pathlib import Path\n",
    "\n",
    "current_dir = Path('.')\n",
    "\n",
    "if current_dir.is_dir():\n",
    "    files = [f for f in current_dir.iterdir() if f.is_file()]  \n",
    "\n",
    "    print(\"Files in the current directory:\")\n",
    "    for file in files:\n",
    "        print(file.name)\n"
   ]
  },
  {
   "cell_type": "code",
   "execution_count": null,
   "id": "83ffdd94-2bb0-4184-a17d-b234f299c3d9",
   "metadata": {},
   "outputs": [],
   "source": []
  }
 ],
 "metadata": {
  "kernelspec": {
   "display_name": "Python 3 (ipykernel)",
   "language": "python",
   "name": "python3"
  },
  "language_info": {
   "codemirror_mode": {
    "name": "ipython",
    "version": 3
   },
   "file_extension": ".py",
   "mimetype": "text/x-python",
   "name": "python",
   "nbconvert_exporter": "python",
   "pygments_lexer": "ipython3",
   "version": "3.11.7"
  }
 },
 "nbformat": 4,
 "nbformat_minor": 5
}
