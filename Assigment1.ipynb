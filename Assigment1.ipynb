{
 "cells": [
  {
   "cell_type": "code",
   "execution_count": 1,
   "id": "2e1c176e-e6d1-4615-bd53-06a1de1bca64",
   "metadata": {},
   "outputs": [
    {
     "name": "stdout",
     "output_type": "stream",
     "text": [
      "\n",
      "1. Add a new product\n",
      "2. Update stock of an existing product\n",
      "3. View product details\n",
      "4. Exit\n"
     ]
    },
    {
     "name": "stdin",
     "output_type": "stream",
     "text": [
      "Enter your choice (1-4):  1\n",
      "Enter product name:  LAPTOP\n",
      "Enter product price:  10000\n",
      "Enter product stock:  10\n"
     ]
    },
    {
     "name": "stdout",
     "output_type": "stream",
     "text": [
      "Product added successfully!\n",
      "\n",
      "1. Add a new product\n",
      "2. Update stock of an existing product\n",
      "3. View product details\n",
      "4. Exit\n"
     ]
    },
    {
     "name": "stdin",
     "output_type": "stream",
     "text": [
      "Enter your choice (1-4):  2\n",
      "Enter product name to update:  LAPTOP\n",
      "Enter quantity to add/remove:  2\n"
     ]
    },
    {
     "name": "stdout",
     "output_type": "stream",
     "text": [
      "Stock updated successfully!\n",
      "\n",
      "1. Add a new product\n",
      "2. Update stock of an existing product\n",
      "3. View product details\n",
      "4. Exit\n"
     ]
    },
    {
     "name": "stdin",
     "output_type": "stream",
     "text": [
      "Enter your choice (1-4):  3\n",
      "Enter product name:  LAPTOP\n"
     ]
    },
    {
     "name": "stdout",
     "output_type": "stream",
     "text": [
      "Product: LAPTOP, Price: $10000.00, Stock: 12\n",
      "\n",
      "1. Add a new product\n",
      "2. Update stock of an existing product\n",
      "3. View product details\n",
      "4. Exit\n"
     ]
    },
    {
     "name": "stdin",
     "output_type": "stream",
     "text": [
      "Enter your choice (1-4):  4\n"
     ]
    },
    {
     "name": "stdout",
     "output_type": "stream",
     "text": [
      "Exiting the system. Goodbye!\n"
     ]
    }
   ],
   "source": [
    "class Product:\n",
    "    def __init__(self, name, price, stock):\n",
    "        self.name = name\n",
    "        self.price = price\n",
    "        self.stock = stock\n",
    "\n",
    "    def update_stock(self, quantity):\n",
    "        self.stock += quantity\n",
    "\n",
    "    def __str__(self):\n",
    "        return f\"Product: {self.name}, Price: ${self.price:.2f}, Stock: {self.stock}\"\n",
    "\n",
    "def add_product(products):\n",
    "    name = input(\"Enter product name: \")\n",
    "    price = float(input(\"Enter product price: \"))\n",
    "    stock = int(input(\"Enter product stock: \"))\n",
    "    new_product = Product(name, price, stock)\n",
    "    products[name] = new_product\n",
    "    print(\"Product added successfully!\")\n",
    "\n",
    "def update_stock(products):\n",
    "    name = input(\"Enter product name to update: \")\n",
    "    if name in products:\n",
    "        quantity = int(input(\"Enter quantity to add/remove: \"))\n",
    "        products[name].update_stock(quantity)\n",
    "        print(\"Stock updated successfully!\")\n",
    "    else:\n",
    "        print(\"Product not found!\")\n",
    "\n",
    "def view_product(products):\n",
    "    name = input(\"Enter product name: \")\n",
    "    if name in products:\n",
    "        print(products[name])\n",
    "    else:\n",
    "        print(\"Product not found!\")\n",
    "\n",
    "def main():\n",
    "    products = {}\n",
    "    while True:\n",
    "        print(\"\\n1. Add a new product\")\n",
    "        print(\"2. Update stock of an existing product\")\n",
    "        print(\"3. View product details\")\n",
    "        print(\"4. Exit\")\n",
    "        \n",
    "        choice = input(\"Enter your choice (1-4): \")\n",
    "\n",
    "        if choice == '1':\n",
    "            add_product(products)\n",
    "        elif choice == '2':\n",
    "            update_stock(products)\n",
    "        elif choice == '3':\n",
    "            view_product(products)\n",
    "        elif choice == '4':\n",
    "            print(\"Exiting the system. Goodbye!\")\n",
    "            break\n",
    "        else:\n",
    "            print(\"Invalid choice. Please try again.\")\n",
    "\n",
    "if __name__ == \"__main__\":\n",
    "    main()\n"
   ]
  },
  {
   "cell_type": "code",
   "execution_count": null,
   "id": "a67bb52a-f3bc-4c08-a2bd-e5e4e4fd4dc1",
   "metadata": {},
   "outputs": [],
   "source": []
  }
 ],
 "metadata": {
  "kernelspec": {
   "display_name": "Python 3 (ipykernel)",
   "language": "python",
   "name": "python3"
  },
  "language_info": {
   "codemirror_mode": {
    "name": "ipython",
    "version": 3
   },
   "file_extension": ".py",
   "mimetype": "text/x-python",
   "name": "python",
   "nbconvert_exporter": "python",
   "pygments_lexer": "ipython3",
   "version": "3.11.7"
  }
 },
 "nbformat": 4,
 "nbformat_minor": 5
}
