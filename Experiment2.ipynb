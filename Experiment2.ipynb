{
  "metadata": {
    "kernelspec": {
      "name": "python",
      "display_name": "Python (Pyodide)",
      "language": "python"
    },
    "language_info": {
      "codemirror_mode": {
        "name": "python",
        "version": 3
      },
      "file_extension": ".py",
      "mimetype": "text/x-python",
      "name": "python",
      "nbconvert_exporter": "python",
      "pygments_lexer": "ipython3",
      "version": "3.8"
    }
  },
  "nbformat_minor": 5,
  "nbformat": 4,
  "cells": [
    {
      "id": "107bdc2c-98e3-4d3c-a7a7-a8a0d7290210",
      "cell_type": "code",
      "source": "",
      "metadata": {
        "trusted": true
      },
      "outputs": [],
      "execution_count": null
    },
    {
      "id": "40ee06ee-6d7f-4e67-8f3c-6a7fc88ffd81",
      "cell_type": "code",
      "source": "class Employee:\n    def __init__ (\n            self,\n            designation : str = 'Developer',\n            frontend : bool = False,\n            backend : bool = False\n    ):\n        self.designation = designation\n        self.frontend = frontend\n        self.backend = backend\n\n    def __repr__ (self):\n        return '{}'.format(self.designation)\n    \n    ### Write your method over here.\n    def verifier(self):\n        if self.frontend and self.backend:\n            return \"Fullstack\"\n        elif self.frontend:\n            return \"Frontend Developer\"\n        elif self.backend:\n            return \"Backend Developer\"\n        else:\n            return \"Not a Developer\"\n\nif __name__ == '__main__':\n    firstEmployee = Employee(frontend=True, backend=True)\n    print(firstEmployee.verifier())  # Should return \"Fullstack\"\n    \n    secondEmployee = Employee(frontend=True, backend=False)\n    print(secondEmployee.verifier())  # Should return \"Frontend Developer\"\n    \n    thirdEmployee = Employee(frontend=False, backend=True)\n    print(thirdEmployee.verifier())  # Should return \"Backend Developer\"\n    \n    fourthEmployee = Employee(frontend=False, backend=False)\n    print(fourthEmployee.verifier())  # Should return \"Not a Developer\"\n",
      "metadata": {
        "trusted": true
      },
      "outputs": [
        {
          "name": "stdout",
          "output_type": "stream",
          "text": "Fullstack\nFrontend Developer\nBackend Developer\nNot a Developer\n"
        }
      ],
      "execution_count": 1
    },
    {
      "id": "364f6187-e3c3-4d48-a0c4-86a417adccf8",
      "cell_type": "code",
      "source": "",
      "metadata": {
        "trusted": true
      },
      "outputs": [],
      "execution_count": null
    }
  ]
}