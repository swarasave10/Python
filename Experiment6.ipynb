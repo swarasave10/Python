{
  "metadata": {
    "kernelspec": {
      "name": "python",
      "display_name": "Python (Pyodide)",
      "language": "python"
    },
    "language_info": {
      "codemirror_mode": {
        "name": "python",
        "version": 3
      },
      "file_extension": ".py",
      "mimetype": "text/x-python",
      "name": "python",
      "nbconvert_exporter": "python",
      "pygments_lexer": "ipython3",
      "version": "3.8"
    }
  },
  "nbformat_minor": 5,
  "nbformat": 4,
  "cells": [
    {
      "id": "549dea6b-0cbc-4513-8e28-fdb8386db482",
      "cell_type": "markdown",
      "source": "### SWARA SAMEER SAVE\n### ROLL NO-51",
      "metadata": {}
    },
    {
      "id": "09675cda-5d1f-41b7-ba96-ff2ff990e468",
      "cell_type": "code",
      "source": "import sqlite3",
      "metadata": {
        "trusted": true
      },
      "outputs": [],
      "execution_count": 24
    },
    {
      "id": "7f4901cf-e837-4615-b648-5907d37ade2e",
      "cell_type": "code",
      "source": "connection = sqlite3.connect ('./genericDatabase.db')\ncursor = connection.cursor ()",
      "metadata": {
        "trusted": true
      },
      "outputs": [],
      "execution_count": 25
    },
    {
      "id": "c7a91714-e73c-4b0d-a394-0188bb5feeec",
      "cell_type": "code",
      "source": "cursor.execute('''\n    CREATE TABLE IF NOT EXISTS students (\n        id INTEGER PRIMARY KEY AUTOINCREMENT,\n        name TEXT NOT NULL,\n        age INTEGER NOT NULL\n    )\n''')\n\nconnection.commit()",
      "metadata": {
        "trusted": true
      },
      "outputs": [],
      "execution_count": 26
    },
    {
      "id": "7ea119b3-5c35-4c4c-9dfe-6b72cc3b0c04",
      "cell_type": "code",
      "source": "\ndef create_student(name, age):\n    cursor.execute('''\n        INSERT INTO students (name, age) \n        VALUES (?, ?)\n    ''', (name, age))\n    connection.commit()\n    print(\"Record added successfully!\")\n\ncreate_student(\"Griffith\", 20)\ncreate_student(\"Guts\", 22)",
      "metadata": {
        "trusted": true
      },
      "outputs": [
        {
          "name": "stdout",
          "output_type": "stream",
          "text": "Record added successfully!\nRecord added successfully!\n"
        }
      ],
      "execution_count": 29
    },
    {
      "id": "048a082f-70af-4ef3-816c-f864175f961e",
      "cell_type": "code",
      "source": "def read_students():\n    cursor.execute('SELECT * FROM students')\n    rows = cursor.fetchall()\n    print(\"Student Records:\")\n    for row in rows:\n        print(row)\n\nread_students()",
      "metadata": {
        "trusted": true
      },
      "outputs": [
        {
          "name": "stdout",
          "output_type": "stream",
          "text": "Student Records:\n(1, 'Griffith', 20)\n(2, 'Guts', 22)\n"
        }
      ],
      "execution_count": 30
    },
    {
      "id": "b1d33be7-4ff2-415d-9583-e642d86eca70",
      "cell_type": "code",
      "source": "def update_student_age(student_id, new_age):\n    cursor.execute('''\n        UPDATE students\n        SET age = ?\n        WHERE id = ?\n    ''', (new_age, student_id))\n    connection.commit()\n    print(\"Student age updated successfully!\")\n\nupdate_student_age(1, 21) \nread_students()  \n",
      "metadata": {
        "trusted": true
      },
      "outputs": [
        {
          "name": "stdout",
          "output_type": "stream",
          "text": "Student age updated successfully!\nStudent Records:\n(1, 'Griffith', 21)\n(2, 'Guts', 22)\n"
        }
      ],
      "execution_count": 31
    },
    {
      "id": "58b4cba4-7709-477e-a82c-fc893f7b52da",
      "cell_type": "code",
      "source": "def delete_student(student_id):\n    cursor.execute('''\n        DELETE FROM students\n        WHERE id = ?\n    ''', (student_id,))\n    connection.commit()\n    print(\"Student deleted successfully!\")\n\ndelete_student(2) \nread_students()  \n",
      "metadata": {
        "trusted": true
      },
      "outputs": [
        {
          "name": "stdout",
          "output_type": "stream",
          "text": "Student deleted successfully!\nStudent Records:\n(1, 'Griffith', 21)\n"
        }
      ],
      "execution_count": 32
    },
    {
      "id": "6df1e660-648b-4d3d-af11-343181c50d1e",
      "cell_type": "code",
      "source": "connection.close ()",
      "metadata": {
        "trusted": true
      },
      "outputs": [],
      "execution_count": 23
    },
    {
      "id": "6a105fc2-9895-4108-a4dc-36a8e67b32b1",
      "cell_type": "code",
      "source": "",
      "metadata": {
        "trusted": true
      },
      "outputs": [],
      "execution_count": null
    },
    {
      "id": "dc3bb7da-c3f0-4cce-910c-095aaf020c57",
      "cell_type": "code",
      "source": "",
      "metadata": {
        "trusted": true
      },
      "outputs": [],
      "execution_count": null
    },
    {
      "id": "2f0a69c5-7196-46bc-8138-46f647caeda6",
      "cell_type": "code",
      "source": "",
      "metadata": {
        "trusted": true
      },
      "outputs": [],
      "execution_count": null
    },
    {
      "id": "56c5b67b-3b17-448d-83ac-26ae392c5e8a",
      "cell_type": "code",
      "source": "",
      "metadata": {
        "trusted": true
      },
      "outputs": [],
      "execution_count": null
    },
    {
      "id": "0ae6a089-2618-4d22-86d8-112e953a6624",
      "cell_type": "code",
      "source": "",
      "metadata": {
        "trusted": true
      },
      "outputs": [],
      "execution_count": null
    }
  ]
}