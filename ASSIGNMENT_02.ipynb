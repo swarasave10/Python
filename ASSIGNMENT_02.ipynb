{
 "cells": [
  {
   "cell_type": "markdown",
   "metadata": {
    "id": "FZs5C2VBEj7l"
   },
   "source": [
    "### Swara Sameer Save \n",
    "### Roll No-51"
   ]
  },
  {
   "cell_type": "code",
   "execution_count": null,
   "metadata": {
    "colab": {
     "base_uri": "https://localhost:8080/"
    },
    "id": "6vr0u14kpD7w",
    "outputId": "6531bcb3-17cb-4f65-bf79-ff0e5c312fbf"
   },
   "outputs": [
    {
     "name": "stdout",
     "output_type": "stream",
     "text": [
      "Enter the first LOG entry: [2025-02-10 14:23:01] [INFO] [Auth_Module] User login successful.\n",
      "Enter the second LOG entry: [2025-02-10 15:45:32] [ERROR] [Net_Module] Connection timeout from 192.168.1.10. Error Code: 0xAB12CD34\n",
      "Enter the third LOG entry: [2025-02-10 16:01:10] [WARN] [Disk_Module] Low disk space warning.\n",
      "Enter the fourth LOG entry: [2025-02-10 17:12:05] [ERROR] [Security_Module] Unauthorized access detected from 10.0.0.5. Error Code: 0xDEADBEEF\n",
      "\n",
      "Inputs:\n",
      "[2025-02-10 14:23:01] [INFO] [Auth_Module] User login successful.\n",
      "[2025-02-10 15:45:32] [ERROR] [Net_Module] Connection timeout from 192.168.1.10. Error Code: 0xAB12CD34\n",
      "[2025-02-10 16:01:10] [WARN] [Disk_Module] Low disk space warning.\n",
      "[2025-02-10 17:12:05] [ERROR] [Security_Module] Unauthorized access detected from 10.0.0.5. Error Code: 0xDEADBEEF\n",
      "\n",
      "Output:\n",
      "('2025-02-10 15:45:32', 'Net_Module', 'Connection timeout from 192.168.1.10. Error Code: 0xAB12CD34')\n",
      "('2025-02-10 17:12:05', 'Security_Module', 'Unauthorized access detected from 10.0.0.5. Error Code: 0xDEADBEEF')\n"
     ]
    }
   ],
   "source": [
    "import re\n",
    "\n",
    "def extract_critical_errors(log_data: str) -> list[tuple]:\n",
    "    # Regex pattern to capture the necessary log information\n",
    "    pattern = r'\\[(\\d{4}-\\d{2}-\\d{2} \\d{2}:\\d{2}:\\d{2})\\] \\[ERROR\\] \\[(\\w+)\\] (.*(?:\\d{1,3}\\.){3}\\d{1,3}.*0x[0-9A-Fa-f]{8}.*)'\n",
    "\n",
    "    # Use re.findall() to find all matches that conform to the pattern\n",
    "    matches = re.findall(pattern, log_data)\n",
    "\n",
    "    # Return the matches as a list of tuples\n",
    "    return matches\n",
    "\n",
    "def get_user_input():\n",
    "    # Taking 4 inputs from the user\n",
    "    LOG_1 = input(\"Enter the first LOG entry: \")\n",
    "    LOG_2 = input(\"Enter the second LOG entry: \")\n",
    "    LOG_3 = input(\"Enter the third LOG entry: \")\n",
    "    LOG_4 = input(\"Enter the fourth LOG entry: \")\n",
    "\n",
    "    # Combine the inputs to simulate the log data\n",
    "    log_data = f\"{LOG_1}\\n{LOG_2}\\n{LOG_3}\\n{LOG_4}\"\n",
    "\n",
    "    # Display the inputs on separate lines\n",
    "    print(\"\\nInputs:\")\n",
    "    print(LOG_1)\n",
    "    print(LOG_2)\n",
    "    print(LOG_3)\n",
    "    print(LOG_4)\n",
    "\n",
    "    # Call the extract_critical_errors function to process the log data\n",
    "    result = extract_critical_errors(log_data)\n",
    "\n",
    "    # Display the result (output)\n",
    "    print(\"\\nOutput:\")\n",
    "    for item in result:\n",
    "        print(item)\n",
    "\n",
    "# Call the function\n",
    "get_user_input()\n"
   ]
  }
 ],
 "metadata": {
  "colab": {
   "provenance": [
    {
     "file_id": "1zc8w1aMIXTuZBqMdbgtv2wZ-hlfoxdu8",
     "timestamp": 1741443302608
    }
   ]
  },
  "kernelspec": {
   "display_name": "Python 3 (ipykernel)",
   "language": "python",
   "name": "python3"
  },
  "language_info": {
   "codemirror_mode": {
    "name": "ipython",
    "version": 3
   },
   "file_extension": ".py",
   "mimetype": "text/x-python",
   "name": "python",
   "nbconvert_exporter": "python",
   "pygments_lexer": "ipython3",
   "version": "3.11.9"
  }
 },
 "nbformat": 4,
 "nbformat_minor": 4
}
