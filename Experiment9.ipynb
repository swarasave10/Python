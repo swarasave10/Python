{
  "metadata": {
    "kernelspec": {
      "name": "python",
      "display_name": "Python (Pyodide)",
      "language": "python"
    },
    "language_info": {
      "codemirror_mode": {
        "name": "python",
        "version": 3
      },
      "file_extension": ".py",
      "mimetype": "text/x-python",
      "name": "python",
      "nbconvert_exporter": "python",
      "pygments_lexer": "ipython3",
      "version": "3.8"
    }
  },
  "nbformat_minor": 5,
  "nbformat": 4,
  "cells": [
    {
      "id": "a41a0b47-10a0-4e43-aa57-02bc1bd5175b",
      "cell_type": "code",
      "source": "import numpy as np",
      "metadata": {
        "trusted": true
      },
      "outputs": [],
      "execution_count": 1
    },
    {
      "id": "10aed7af-5686-4ac2-a86a-2df6c4b14778",
      "cell_type": "code",
      "source": "# 1. Array Creation Techniques\nprint(\"1. Array Creation Techniques\")",
      "metadata": {
        "trusted": true
      },
      "outputs": [
        {
          "name": "stdout",
          "output_type": "stream",
          "text": "1. Array Creation Techniques\n"
        }
      ],
      "execution_count": 2
    },
    {
      "id": "0863689a-ba91-404b-acee-7610cc3ec129",
      "cell_type": "code",
      "source": "# a. Creating an array from a list\narray_from_list = np.array([1, 2, 3, 4, 5])\narray_from_list",
      "metadata": {
        "trusted": true
      },
      "outputs": [
        {
          "execution_count": 3,
          "output_type": "execute_result",
          "data": {
            "text/plain": "array([1, 2, 3, 4, 5])"
          },
          "metadata": {}
        }
      ],
      "execution_count": 3
    },
    {
      "id": "0e464d1f-d14a-4c55-8231-3d443e35f6a0",
      "cell_type": "code",
      "source": "# b. Using arange()\narray_arange = np.arange(0, 10, 2)\narray_arange",
      "metadata": {
        "trusted": true
      },
      "outputs": [
        {
          "execution_count": 5,
          "output_type": "execute_result",
          "data": {
            "text/plain": "array([0, 2, 4, 6, 8])"
          },
          "metadata": {}
        }
      ],
      "execution_count": 5
    },
    {
      "id": "dc6df795-0ae4-49bd-a1e4-18a2c525bc1a",
      "cell_type": "code",
      "source": "# c. Using linspace()\narray_linspace = np.linspace(0, 10, 5)  # Divides 0 to 10 into 5 points\narray_linspace",
      "metadata": {
        "trusted": true
      },
      "outputs": [
        {
          "execution_count": 6,
          "output_type": "execute_result",
          "data": {
            "text/plain": "array([ 0. ,  2.5,  5. ,  7.5, 10. ])"
          },
          "metadata": {}
        }
      ],
      "execution_count": 6
    },
    {
      "id": "6bc1757d-a81d-4062-958a-fae7c7d81e71",
      "cell_type": "code",
      "source": "# d. Using zeros()\narray_zeros = np.zeros((3, 3))\narray_zeros",
      "metadata": {
        "trusted": true
      },
      "outputs": [
        {
          "execution_count": 7,
          "output_type": "execute_result",
          "data": {
            "text/plain": "array([[0., 0., 0.],\n       [0., 0., 0.],\n       [0., 0., 0.]])"
          },
          "metadata": {}
        }
      ],
      "execution_count": 7
    },
    {
      "id": "98e3b306-e1fe-4922-9b52-66ac6a3f36c1",
      "cell_type": "code",
      "source": "# e. Using ones()\narray_ones = np.ones((2, 2))\narray_ones",
      "metadata": {
        "trusted": true
      },
      "outputs": [
        {
          "execution_count": 8,
          "output_type": "execute_result",
          "data": {
            "text/plain": "array([[1., 1.],\n       [1., 1.]])"
          },
          "metadata": {}
        }
      ],
      "execution_count": 8
    },
    {
      "id": "b1aa9c06-b16f-4a6c-9ae4-864ad75ccd61",
      "cell_type": "code",
      "source": "# f. Using eye() for identity matrix\narray_eye = np.eye(3)\narray_eye",
      "metadata": {
        "trusted": true
      },
      "outputs": [
        {
          "execution_count": 9,
          "output_type": "execute_result",
          "data": {
            "text/plain": "array([[1., 0., 0.],\n       [0., 1., 0.],\n       [0., 0., 1.]])"
          },
          "metadata": {}
        }
      ],
      "execution_count": 9
    },
    {
      "id": "f3f21882-01dc-45c7-9182-0eef23afff1d",
      "cell_type": "code",
      "source": "# g. Using random() for random values\narray_random = np.random.random((3, 3))\narray_random",
      "metadata": {
        "trusted": true
      },
      "outputs": [
        {
          "execution_count": 10,
          "output_type": "execute_result",
          "data": {
            "text/plain": "array([[0.09134068, 0.81587833, 0.35281488],\n       [0.97612205, 0.11770995, 0.16659146],\n       [0.87528415, 0.7077282 , 0.77400554]])"
          },
          "metadata": {}
        }
      ],
      "execution_count": 10
    },
    {
      "id": "dc71350c-5fac-4cf2-8be9-dbfb6caa42b5",
      "cell_type": "code",
      "source": "# 2. Different NumPy Methods\nprint(\"\\n2. NumPy Methods\")",
      "metadata": {
        "trusted": true
      },
      "outputs": [
        {
          "name": "stdout",
          "output_type": "stream",
          "text": "\n2. NumPy Methods\n"
        }
      ],
      "execution_count": 11
    },
    {
      "id": "f0d7f5fe-413e-4ccb-819a-0e66234bf1d0",
      "cell_type": "code",
      "source": "# a. Reshaping an array\nreshaped_array = np.arange(1, 10).reshape(3, 3)\nreshaped_array",
      "metadata": {
        "trusted": true
      },
      "outputs": [
        {
          "execution_count": 12,
          "output_type": "execute_result",
          "data": {
            "text/plain": "array([[1, 2, 3],\n       [4, 5, 6],\n       [7, 8, 9]])"
          },
          "metadata": {}
        }
      ],
      "execution_count": 12
    },
    {
      "id": "0eb3c9ee-1e77-4618-b53f-6b385c2e8fab",
      "cell_type": "code",
      "source": "# b. Transposing an array\ntransposed_array = reshaped_array.T\ntransposed_array",
      "metadata": {
        "trusted": true
      },
      "outputs": [
        {
          "execution_count": 13,
          "output_type": "execute_result",
          "data": {
            "text/plain": "array([[1, 4, 7],\n       [2, 5, 8],\n       [3, 6, 9]])"
          },
          "metadata": {}
        }
      ],
      "execution_count": 13
    },
    {
      "id": "2c577b40-a957-41b6-828c-17cf41985c0c",
      "cell_type": "code",
      "source": "# c. Mathematical operations\narray_math = np.array([1, 2, 3])\narray_math + 2\narray_math * 3\nnp.sqrt(array_math)",
      "metadata": {
        "trusted": true
      },
      "outputs": [
        {
          "execution_count": 14,
          "output_type": "execute_result",
          "data": {
            "text/plain": "array([1.        , 1.41421356, 1.73205081])"
          },
          "metadata": {}
        }
      ],
      "execution_count": 14
    },
    {
      "id": "9d17f005-baa4-441f-a43c-c49a4e75b550",
      "cell_type": "code",
      "source": "# d. Aggregation methods\nnp.sum(array_math)\nnp.mean(array_math)\nnp.max(array_math)\nnp.min(array_math)",
      "metadata": {
        "trusted": true
      },
      "outputs": [
        {
          "execution_count": 15,
          "output_type": "execute_result",
          "data": {
            "text/plain": "np.int32(1)"
          },
          "metadata": {}
        }
      ],
      "execution_count": 15
    },
    {
      "id": "1a196f86-9258-4245-8391-c87cf3a72667",
      "cell_type": "code",
      "source": "# e. Concatenation of arrays\narray_a = np.array([1, 2, 3])\narray_b = np.array([4, 5, 6])\nconcat_array = np.concatenate((array_a, array_b))\nconcat_array",
      "metadata": {
        "trusted": true
      },
      "outputs": [
        {
          "execution_count": 16,
          "output_type": "execute_result",
          "data": {
            "text/plain": "array([1, 2, 3, 4, 5, 6])"
          },
          "metadata": {}
        }
      ],
      "execution_count": 16
    },
    {
      "id": "0377c4da-e09a-45f9-809f-e557afd44024",
      "cell_type": "code",
      "source": "# f. Sorting an array\nunsorted_array = np.array([3, 1, 4, 2])\nsorted_array = np.sort(unsorted_array)\nsorted_array",
      "metadata": {
        "trusted": true
      },
      "outputs": [
        {
          "execution_count": 17,
          "output_type": "execute_result",
          "data": {
            "text/plain": "array([1, 2, 3, 4])"
          },
          "metadata": {}
        }
      ],
      "execution_count": 17
    },
    {
      "id": "601b8055-b8dc-481c-a03f-d8f8c7e973d0",
      "cell_type": "code",
      "source": "# g. Indexing and Slicing\nindexed_value = array_math[1]  # Indexing\nindexed_value\nsliced_array = array_math[1:3]  # Slicing\nsliced_array",
      "metadata": {
        "trusted": true
      },
      "outputs": [
        {
          "execution_count": 18,
          "output_type": "execute_result",
          "data": {
            "text/plain": "array([2, 3])"
          },
          "metadata": {}
        }
      ],
      "execution_count": 18
    },
    {
      "id": "37475ec3-ffe1-45eb-8e06-a21475dcee40",
      "cell_type": "code",
      "source": "# h. Boolean Masking\nboolean_mask = array_math > 2\nboolean_mask\narray_math[boolean_mask]",
      "metadata": {
        "trusted": true
      },
      "outputs": [
        {
          "execution_count": 19,
          "output_type": "execute_result",
          "data": {
            "text/plain": "array([3])"
          },
          "metadata": {}
        }
      ],
      "execution_count": 19
    }
  ]
}