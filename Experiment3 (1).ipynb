{
  "metadata": {
    "kernelspec": {
      "name": "python",
      "display_name": "Python (Pyodide)",
      "language": "python"
    },
    "language_info": {
      "codemirror_mode": {
        "name": "python",
        "version": 3
      },
      "file_extension": ".py",
      "mimetype": "text/x-python",
      "name": "python",
      "nbconvert_exporter": "python",
      "pygments_lexer": "ipython3",
      "version": "3.8"
    }
  },
  "nbformat_minor": 5,
  "nbformat": 4,
  "cells": [
    {
      "id": "62c95771-5375-4f49-acfe-797bb4e88d09",
      "cell_type": "code",
      "source": "if __name__ == '__main__':\n    with open ('./file.txt', 'r') as file:\n        lines = file.readlines ()\n        numberOfLines = len (lines)\n        numberOfWords = sum (len (line.split()) for line in lines)\n        \n        \n        numberOfCharacters = ''\n        \n    print(f\"Lines: {numberOfLines}\")\n    print(f\"Words: {numberOfWords}\")\n    print(f\"Characters: {numberOfCharacters}\")",
      "metadata": {
        "trusted": true
      },
      "outputs": [
        {
          "name": "stdout",
          "output_type": "stream",
          "text": "Lines: 4\nWords: 21\nCharacters: \n"
        }
      ],
      "execution_count": 1
    },
    {
      "id": "8af90b63-5172-4212-ba43-b946f104726f",
      "cell_type": "code",
      "source": "",
      "metadata": {
        "trusted": true
      },
      "outputs": [],
      "execution_count": null
    }
  ]
}